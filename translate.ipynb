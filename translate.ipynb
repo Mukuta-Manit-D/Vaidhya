{
  "nbformat": 4,
  "nbformat_minor": 0,
  "metadata": {
    "colab": {
      "provenance": []
    },
    "kernelspec": {
      "name": "python3",
      "display_name": "Python 3"
    },
    "language_info": {
      "name": "python"
    }
  },
  "cells": [
    {
      "cell_type": "code",
      "execution_count": null,
      "metadata": {
        "id": "ByJH69CLVS6l"
      },
      "outputs": [],
      "source": [
        "pip install flask flask-cors flask-cloudflared transformers torch\n"
      ]
    },
    {
      "cell_type": "code",
      "source": [
        "from flask import Flask, request, jsonify\n",
        "from flask_cors import CORS\n",
        "from flask_cloudflared import run_with_cloudflared\n",
        "from transformers import pipeline\n",
        "\n",
        "app = Flask(__name__)\n",
        "CORS(app)\n",
        "\n",
        "# Enable Cloudflared\n",
        "run_with_cloudflared(app)\n",
        "\n",
        "# Define the best Hugging Face translation models\n",
        "translator_models = {\n",
        "    \"as\": \"Helsinki-NLP/opus-mt-en-as\",  # Assamese\n",
        "    \"bn\": \"Helsinki-NLP/opus-mt-en-bn\",  # Bengali\n",
        "    \"gu\": \"Helsinki-NLP/opus-mt-en-gu\",  # Gujarati\n",
        "    \"hi\": \"Helsinki-NLP/opus-mt-en-hi\",  # Hindi\n",
        "    \"kn\": \"Helsinki-NLP/opus-mt-en-kn\",  # Kannada\n",
        "    \"ml\": \"Helsinki-NLP/opus-mt-en-ml\",  # Malayalam\n",
        "    \"mr\": \"Helsinki-NLP/opus-mt-en-mr\",  # Marathi\n",
        "    \"or\": \"Helsinki-NLP/opus-mt-en-or\",  # Odia\n",
        "    \"pa\": \"Helsinki-NLP/opus-mt-en-pa\",  # Punjabi\n",
        "    \"ta\": \"Helsinki-NLP/opus-mt-en-ta\",  # Tamil\n",
        "    \"te\": \"Helsinki-NLP/opus-mt-en-te\",  # Telugu\n",
        "    \"en\": None  # No translation needed for English\n",
        "}\n",
        "\n",
        "@app.route(\"/translate\", methods=[\"POST\"])\n",
        "def translate():\n",
        "    try:\n",
        "        data = request.get_json()\n",
        "        texts = data.get(\"texts\", [])\n",
        "        target_lang = data.get(\"target_lang\", \"en\")\n",
        "\n",
        "        # Check if the target language is supported\n",
        "        if target_lang not in translator_models:\n",
        "            return jsonify({\"error\": \"Unsupported language\"}), 400\n",
        "\n",
        "        if translator_models[target_lang]:\n",
        "            translator = pipeline(\"translation\", model=translator_models[target_lang])\n",
        "            translated_texts = [translator(text)[0][\"translation_text\"] for text in texts]\n",
        "        else:\n",
        "            translated_texts = texts  # If English, return the same text\n",
        "\n",
        "        return jsonify({\"translated_texts\": translated_texts})\n",
        "\n",
        "    except Exception as e:\n",
        "        return jsonify({\"error\": str(e)}), 500\n",
        "\n",
        "if __name__ == \"__main__\":"
      ],
      "metadata": {
        "id": "bJxuwcuBVZN9"
      },
      "execution_count": null,
      "outputs": []
    },
    {
      "cell_type": "code",
      "source": [
        " app.run()"
      ],
      "metadata": {
        "id": "rYjDYZWsVgvf"
      },
      "execution_count": null,
      "outputs": []
    }
  ]
}